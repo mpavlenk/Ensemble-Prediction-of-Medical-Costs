{
 "cells": [
  {
   "cell_type": "markdown",
   "metadata": {},
   "source": [
    "<p><h1><center>Prediction of Medical Costs</center></h1></p>\n",
    "<p><h2><center>Ensemble Modeling</center></h2></p>\n",
    "<center>Data mining techniques used: Random forest, Ridge Regression, Support vector regression with a radial kernel,Linear regression.</center>\n",
    "\n",
    "\n",
    "\n",
    "<h2><a href=\"https://github.com/mpavlenk/Ensemble-Prediction-of-Medical-Costs\">Data file</a><h2>\n",
    "<h3><strong>INDEX:</strong><br></h3>\n",
    "<p>1: <a href=\"#Data-processing\">Data processing</a><br>\n",
    "2: <a href=\"#Descriptive-statistics\">Descriptive statistics</a><br>\n",
    "3: <a href=\"#Visualizations\">Visualizations</a><br>\n",
    "4: <a href=\"#Model generation\">Model generation</a><br>\n",
    "5: <a href=\"#Ensemble prediction with Stacking\">Ensemble prediction with Stacking</a><br>                   \n",
    "6: <a href=\"#Conclusion\">Conclusion</a>"
   ]
  },
  {
   "cell_type": "markdown",
   "metadata": {},
   "source": [
    "Importing libraries"
   ]
  },
  {
   "cell_type": "code",
   "execution_count": 33,
   "metadata": {},
   "outputs": [],
   "source": [
    "library(e1071)\n",
    "library(tibble)\n",
    "library(psych)\n",
    "library(dplyr)\n",
    "library(caret)\n",
    "library(caretEnsemble)\n",
    "library(GGally)\n",
    "library(ggplot2)\n",
    "library(monomvn)\n",
    "library(randomForest)\n",
    "library(kernlab)\n",
    "library(elasticnet)\n",
    "library(car)\n",
    "library(corrplot)"
   ]
  },
  {
   "cell_type": "markdown",
   "metadata": {},
   "source": [
    "Overview of data"
   ]
  },
  {
   "cell_type": "code",
   "execution_count": 2,
   "metadata": {},
   "outputs": [
    {
     "name": "stdout",
     "output_type": "stream",
     "text": [
      "Observations: 1,338\n",
      "Variables: 7\n",
      "$ age      <int> 19, 18, 28, 33, 32, 31, 46, 37, 37, 60, 25, 62, 23, 56, 27...\n",
      "$ sex      <fct> female, male, male, male, male, female, female, female, ma...\n",
      "$ bmi      <dbl> 27.900, 33.770, 33.000, 22.705, 28.880, 25.740, 33.440, 27...\n",
      "$ children <int> 0, 1, 3, 0, 0, 0, 1, 3, 2, 0, 0, 0, 0, 0, 0, 1, 1, 0, 0, 0...\n",
      "$ smoker   <fct> yes, no, no, no, no, no, no, no, no, no, no, yes, no, no, ...\n",
      "$ region   <fct> southwest, southeast, southeast, northwest, northwest, sou...\n",
      "$ charges  <dbl> 16884.924, 1725.552, 4449.462, 21984.471, 3866.855, 3756.6...\n"
     ]
    }
   ],
   "source": [
    "data <- read.csv(\"insurance.csv\")\n",
    "glimpse(data)\n",
    "#There are 1338 observations and 7 variables in the dataset. 3 categorical variables."
   ]
  },
  {
   "cell_type": "markdown",
   "metadata": {},
   "source": [
    "<h1><font color=\"red\"><center id=\"Data-processing\">Data processing<a class=\"anchor-link\" href=\"#Data-processing\">&#182;</a><center></font></h1>"
   ]
  },
  {
   "cell_type": "code",
   "execution_count": 3,
   "metadata": {},
   "outputs": [
    {
     "data": {
      "text/html": [
       "<dl class=dl-horizontal>\n",
       "\t<dt>age</dt>\n",
       "\t\t<dd>0</dd>\n",
       "\t<dt>sex</dt>\n",
       "\t\t<dd>0</dd>\n",
       "\t<dt>bmi</dt>\n",
       "\t\t<dd>0</dd>\n",
       "\t<dt>children</dt>\n",
       "\t\t<dd>0</dd>\n",
       "\t<dt>smoker</dt>\n",
       "\t\t<dd>0</dd>\n",
       "\t<dt>region</dt>\n",
       "\t\t<dd>0</dd>\n",
       "\t<dt>charges</dt>\n",
       "\t\t<dd>0</dd>\n",
       "</dl>\n"
      ],
      "text/latex": [
       "\\begin{description*}\n",
       "\\item[age] 0\n",
       "\\item[sex] 0\n",
       "\\item[bmi] 0\n",
       "\\item[children] 0\n",
       "\\item[smoker] 0\n",
       "\\item[region] 0\n",
       "\\item[charges] 0\n",
       "\\end{description*}\n"
      ],
      "text/markdown": [
       "age\n",
       ":   0sex\n",
       ":   0bmi\n",
       ":   0children\n",
       ":   0smoker\n",
       ":   0region\n",
       ":   0charges\n",
       ":   0\n",
       "\n"
      ],
      "text/plain": [
       "     age      sex      bmi children   smoker   region  charges \n",
       "       0        0        0        0        0        0        0 "
      ]
     },
     "metadata": {},
     "output_type": "display_data"
    }
   ],
   "source": [
    "colSums(is.na(data))\n",
    "#No missing values observed"
   ]
  },
  {
   "cell_type": "code",
   "execution_count": 4,
   "metadata": {},
   "outputs": [
    {
     "data": {
      "text/html": [
       "<table>\n",
       "<thead><tr><th scope=col>age</th><th scope=col>bmi</th><th scope=col>children</th><th scope=col>smoker</th><th scope=col>region</th><th scope=col>charges</th><th scope=col>male</th></tr></thead>\n",
       "<tbody>\n",
       "\t<tr><td>19       </td><td>27.900   </td><td>0        </td><td>1        </td><td>southwest</td><td>16884.924</td><td>0        </td></tr>\n",
       "\t<tr><td>18       </td><td>33.770   </td><td>1        </td><td>0        </td><td>southeast</td><td> 1725.552</td><td>1        </td></tr>\n",
       "\t<tr><td>28       </td><td>33.000   </td><td>3        </td><td>0        </td><td>southeast</td><td> 4449.462</td><td>1        </td></tr>\n",
       "\t<tr><td>33       </td><td>22.705   </td><td>0        </td><td>0        </td><td>northwest</td><td>21984.471</td><td>1        </td></tr>\n",
       "\t<tr><td>32       </td><td>28.880   </td><td>0        </td><td>0        </td><td>northwest</td><td> 3866.855</td><td>1        </td></tr>\n",
       "\t<tr><td>31       </td><td>25.740   </td><td>0        </td><td>0        </td><td>southeast</td><td> 3756.622</td><td>0        </td></tr>\n",
       "</tbody>\n",
       "</table>\n"
      ],
      "text/latex": [
       "\\begin{tabular}{r|lllllll}\n",
       " age & bmi & children & smoker & region & charges & male\\\\\n",
       "\\hline\n",
       "\t 19        & 27.900    & 0         & 1         & southwest & 16884.924 & 0        \\\\\n",
       "\t 18        & 33.770    & 1         & 0         & southeast &  1725.552 & 1        \\\\\n",
       "\t 28        & 33.000    & 3         & 0         & southeast &  4449.462 & 1        \\\\\n",
       "\t 33        & 22.705    & 0         & 0         & northwest & 21984.471 & 1        \\\\\n",
       "\t 32        & 28.880    & 0         & 0         & northwest &  3866.855 & 1        \\\\\n",
       "\t 31        & 25.740    & 0         & 0         & southeast &  3756.622 & 0        \\\\\n",
       "\\end{tabular}\n"
      ],
      "text/markdown": [
       "\n",
       "| age | bmi | children | smoker | region | charges | male |\n",
       "|---|---|---|---|---|---|---|\n",
       "| 19        | 27.900    | 0         | 1         | southwest | 16884.924 | 0         |\n",
       "| 18        | 33.770    | 1         | 0         | southeast |  1725.552 | 1         |\n",
       "| 28        | 33.000    | 3         | 0         | southeast |  4449.462 | 1         |\n",
       "| 33        | 22.705    | 0         | 0         | northwest | 21984.471 | 1         |\n",
       "| 32        | 28.880    | 0         | 0         | northwest |  3866.855 | 1         |\n",
       "| 31        | 25.740    | 0         | 0         | southeast |  3756.622 | 0         |\n",
       "\n"
      ],
      "text/plain": [
       "  age bmi    children smoker region    charges   male\n",
       "1 19  27.900 0        1      southwest 16884.924 0   \n",
       "2 18  33.770 1        0      southeast  1725.552 1   \n",
       "3 28  33.000 3        0      southeast  4449.462 1   \n",
       "4 33  22.705 0        0      northwest 21984.471 1   \n",
       "5 32  28.880 0        0      northwest  3866.855 1   \n",
       "6 31  25.740 0        0      southeast  3756.622 0   "
      ]
     },
     "metadata": {},
     "output_type": "display_data"
    }
   ],
   "source": [
    "#Converting variables into dummy variables\n",
    "data$male=ifelse(data$sex==\"male\",1,0)\n",
    "data$sex=NULL\n",
    "data$smoker=ifelse(data$smoker==\"yes\",1,0)\n",
    "head(data)"
   ]
  },
  {
   "cell_type": "markdown",
   "metadata": {},
   "source": [
    "<h1><font color=\"red\"><center id=Descriptive-statistics\">Descriptive statistics<a class=\"anchor-link\" href=\"#\"Descriptive-statistics\">&#182;</a><center></font></h1>"
   ]
  },
  {
   "cell_type": "code",
   "execution_count": 5,
   "metadata": {},
   "outputs": [
    {
     "data": {
      "text/html": [
       "<table>\n",
       "<thead><tr><th></th><th scope=col>vars</th><th scope=col>n</th><th scope=col>mean</th><th scope=col>sd</th><th scope=col>median</th><th scope=col>trimmed</th><th scope=col>mad</th><th scope=col>min</th><th scope=col>max</th><th scope=col>range</th><th scope=col>skew</th><th scope=col>kurtosis</th><th scope=col>se</th></tr></thead>\n",
       "<tbody>\n",
       "\t<tr><th scope=row>age</th><td>1           </td><td>1338        </td><td>3.920703e+01</td><td>1.404996e+01</td><td>  39.000    </td><td>3.900560e+01</td><td>  17.791200 </td><td>  18.000    </td><td>   64.00    </td><td>   46.00    </td><td> 0.05554775 </td><td>-1.24754314 </td><td>  0.38410242</td></tr>\n",
       "\t<tr><th scope=row>bmi</th><td>2           </td><td>1338        </td><td>3.066340e+01</td><td>6.098187e+00</td><td>  30.400    </td><td>3.050021e+01</td><td>   6.197268 </td><td>  15.960    </td><td>   53.13    </td><td>   37.17    </td><td> 0.28341055 </td><td>-0.05942352 </td><td>  0.16671423</td></tr>\n",
       "\t<tr><th scope=row>children</th><td>3           </td><td>1338        </td><td>1.094918e+00</td><td>1.205493e+00</td><td>   1.000    </td><td>9.375000e-01</td><td>   1.482600 </td><td>   0.000    </td><td>    5.00    </td><td>    5.00    </td><td> 0.93627750 </td><td> 0.19244011 </td><td>  0.03295616</td></tr>\n",
       "\t<tr><th scope=row>smoker</th><td>4           </td><td>1338        </td><td>2.047833e-01</td><td>4.036940e-01</td><td>   0.000    </td><td>1.315299e-01</td><td>   0.000000 </td><td>   0.000    </td><td>    1.00    </td><td>    1.00    </td><td> 1.46148357 </td><td> 0.13603757 </td><td>  0.01103632</td></tr>\n",
       "\t<tr><th scope=row>region*</th><td>5           </td><td>1338        </td><td>2.515695e+00</td><td>1.104885e+00</td><td>   3.000    </td><td>2.519590e+00</td><td>   1.482600 </td><td>   1.000    </td><td>    4.00    </td><td>    3.00    </td><td>-0.03801512 </td><td>-1.32972605 </td><td>  0.03020571</td></tr>\n",
       "\t<tr><th scope=row>charges</th><td>6           </td><td>1338        </td><td>1.327042e+04</td><td>1.211001e+04</td><td>9382.033    </td><td>1.107602e+04</td><td>7440.809314 </td><td>1121.874    </td><td>63770.43    </td><td>62648.55    </td><td> 1.51248252 </td><td> 1.58895424 </td><td>331.06745432</td></tr>\n",
       "\t<tr><th scope=row>male</th><td>7           </td><td>1338        </td><td>5.052317e-01</td><td>5.001596e-01</td><td>   1.000    </td><td>5.065299e-01</td><td>   0.000000 </td><td>   0.000    </td><td>    1.00    </td><td>    1.00    </td><td>-0.02090444 </td><td>-2.00105689 </td><td>  0.01367353</td></tr>\n",
       "</tbody>\n",
       "</table>\n"
      ],
      "text/latex": [
       "\\begin{tabular}{r|lllllllllllll}\n",
       "  & vars & n & mean & sd & median & trimmed & mad & min & max & range & skew & kurtosis & se\\\\\n",
       "\\hline\n",
       "\tage & 1            & 1338         & 3.920703e+01 & 1.404996e+01 &   39.000     & 3.900560e+01 &   17.791200  &   18.000     &    64.00     &    46.00     &  0.05554775  & -1.24754314  &   0.38410242\\\\\n",
       "\tbmi & 2            & 1338         & 3.066340e+01 & 6.098187e+00 &   30.400     & 3.050021e+01 &    6.197268  &   15.960     &    53.13     &    37.17     &  0.28341055  & -0.05942352  &   0.16671423\\\\\n",
       "\tchildren & 3            & 1338         & 1.094918e+00 & 1.205493e+00 &    1.000     & 9.375000e-01 &    1.482600  &    0.000     &     5.00     &     5.00     &  0.93627750  &  0.19244011  &   0.03295616\\\\\n",
       "\tsmoker & 4            & 1338         & 2.047833e-01 & 4.036940e-01 &    0.000     & 1.315299e-01 &    0.000000  &    0.000     &     1.00     &     1.00     &  1.46148357  &  0.13603757  &   0.01103632\\\\\n",
       "\tregion* & 5            & 1338         & 2.515695e+00 & 1.104885e+00 &    3.000     & 2.519590e+00 &    1.482600  &    1.000     &     4.00     &     3.00     & -0.03801512  & -1.32972605  &   0.03020571\\\\\n",
       "\tcharges & 6            & 1338         & 1.327042e+04 & 1.211001e+04 & 9382.033     & 1.107602e+04 & 7440.809314  & 1121.874     & 63770.43     & 62648.55     &  1.51248252  &  1.58895424  & 331.06745432\\\\\n",
       "\tmale & 7            & 1338         & 5.052317e-01 & 5.001596e-01 &    1.000     & 5.065299e-01 &    0.000000  &    0.000     &     1.00     &     1.00     & -0.02090444  & -2.00105689  &   0.01367353\\\\\n",
       "\\end{tabular}\n"
      ],
      "text/markdown": [
       "\n",
       "| <!--/--> | vars | n | mean | sd | median | trimmed | mad | min | max | range | skew | kurtosis | se |\n",
       "|---|---|---|---|---|---|---|---|---|---|---|---|---|---|\n",
       "| age | 1            | 1338         | 3.920703e+01 | 1.404996e+01 |   39.000     | 3.900560e+01 |   17.791200  |   18.000     |    64.00     |    46.00     |  0.05554775  | -1.24754314  |   0.38410242 |\n",
       "| bmi | 2            | 1338         | 3.066340e+01 | 6.098187e+00 |   30.400     | 3.050021e+01 |    6.197268  |   15.960     |    53.13     |    37.17     |  0.28341055  | -0.05942352  |   0.16671423 |\n",
       "| children | 3            | 1338         | 1.094918e+00 | 1.205493e+00 |    1.000     | 9.375000e-01 |    1.482600  |    0.000     |     5.00     |     5.00     |  0.93627750  |  0.19244011  |   0.03295616 |\n",
       "| smoker | 4            | 1338         | 2.047833e-01 | 4.036940e-01 |    0.000     | 1.315299e-01 |    0.000000  |    0.000     |     1.00     |     1.00     |  1.46148357  |  0.13603757  |   0.01103632 |\n",
       "| region* | 5            | 1338         | 2.515695e+00 | 1.104885e+00 |    3.000     | 2.519590e+00 |    1.482600  |    1.000     |     4.00     |     3.00     | -0.03801512  | -1.32972605  |   0.03020571 |\n",
       "| charges | 6            | 1338         | 1.327042e+04 | 1.211001e+04 | 9382.033     | 1.107602e+04 | 7440.809314  | 1121.874     | 63770.43     | 62648.55     |  1.51248252  |  1.58895424  | 331.06745432 |\n",
       "| male | 7            | 1338         | 5.052317e-01 | 5.001596e-01 |    1.000     | 5.065299e-01 |    0.000000  |    0.000     |     1.00     |     1.00     | -0.02090444  | -2.00105689  |   0.01367353 |\n",
       "\n"
      ],
      "text/plain": [
       "         vars n    mean         sd           median   trimmed      mad        \n",
       "age      1    1338 3.920703e+01 1.404996e+01   39.000 3.900560e+01   17.791200\n",
       "bmi      2    1338 3.066340e+01 6.098187e+00   30.400 3.050021e+01    6.197268\n",
       "children 3    1338 1.094918e+00 1.205493e+00    1.000 9.375000e-01    1.482600\n",
       "smoker   4    1338 2.047833e-01 4.036940e-01    0.000 1.315299e-01    0.000000\n",
       "region*  5    1338 2.515695e+00 1.104885e+00    3.000 2.519590e+00    1.482600\n",
       "charges  6    1338 1.327042e+04 1.211001e+04 9382.033 1.107602e+04 7440.809314\n",
       "male     7    1338 5.052317e-01 5.001596e-01    1.000 5.065299e-01    0.000000\n",
       "         min      max      range    skew        kurtosis    se          \n",
       "age        18.000    64.00    46.00  0.05554775 -1.24754314   0.38410242\n",
       "bmi        15.960    53.13    37.17  0.28341055 -0.05942352   0.16671423\n",
       "children    0.000     5.00     5.00  0.93627750  0.19244011   0.03295616\n",
       "smoker      0.000     1.00     1.00  1.46148357  0.13603757   0.01103632\n",
       "region*     1.000     4.00     3.00 -0.03801512 -1.32972605   0.03020571\n",
       "charges  1121.874 63770.43 62648.55  1.51248252  1.58895424 331.06745432\n",
       "male        0.000     1.00     1.00 -0.02090444 -2.00105689   0.01367353"
      ]
     },
     "metadata": {},
     "output_type": "display_data"
    }
   ],
   "source": [
    "describe(data)\n",
    "#The distribution of charges is right skewed. "
   ]
  },
  {
   "cell_type": "markdown",
   "metadata": {},
   "source": [
    "<h1><font color=\"red\"><center id=\"Visualizations\">Visualizations<a class=\"anchor-link\" href=\"#Visualizations\">&#182;</a><center></font></h1>"
   ]
  },
  {
   "cell_type": "code",
   "execution_count": 6,
   "metadata": {},
   "outputs": [
    {
     "data": {
      "image/png": "[encoded data removed]",
      "text/plain": [
       "Plot with title \"Distribution of Medical Charges\""
      ]
     },
     "metadata": {},
     "output_type": "display_data"
    }
   ],
   "source": [
    "#Distribution of dependent variable \"charges\". Charges $0-$15000 have the highest count\n",
    "options(repr.plot.width=6, repr.plot.height=4)\n",
    "hist(data$charges, col = 'lightblue', xlab=\"charges\",main = 'Distribution of Medical Charges')"
   ]
  },
  {
   "cell_type": "code",
   "execution_count": 7,
   "metadata": {},
   "outputs": [
    {
     "name": "stderr",
     "output_type": "stream",
     "text": [
      "`stat_bin()` using `bins = 30`. Pick better value with `binwidth`.\n"
     ]
    },
    {
     "data": {
      "image/png": "[encoded data removed]",
      "text/plain": [
       "plot without title"
      ]
     },
     "metadata": {},
     "output_type": "display_data"
    }
   ],
   "source": [
    "#BMI follows a normal distribution with the mean value around 31.\n",
    "ggplot(data,aes(bmi))+\n",
    "  geom_histogram(aes(y=..density..),col=\"black\",fill=\"lightblue\")+\n",
    "  stat_function(fun=dnorm,color=\"red\",args = list(mean=mean(data$bmi),sd=sd(data$bmi)),lwd=1.5)"
   ]
  },
  {
   "cell_type": "code",
   "execution_count": 8,
   "metadata": {},
   "outputs": [
    {
     "data": {
      "image/png": "[encoded data removed]",
      "text/plain": [
       "Plot with title \"BMI and charges\""
      ]
     },
     "metadata": {},
     "output_type": "display_data"
    }
   ],
   "source": [
    "#BMI and charges have positive linear relationships, however it is not a strong correlation\n",
    "scatterplot(data$bmi,data$charges, xlab=\"bmi\", ylab=\"charges\",regLine=TRUE,col=carPalette(),main=\"BMI and charges\")"
   ]
  },
  {
   "cell_type": "code",
   "execution_count": 9,
   "metadata": {},
   "outputs": [
    {
     "data": {
      "image/png": "[encoded data removed]",
      "text/plain": [
       "plot without title"
      ]
     },
     "metadata": {},
     "output_type": "display_data"
    }
   ],
   "source": [
    "#Children\n",
    "#This graph shows proportion of children across all population in the sample. The distribution is skewed to the right. \n",
    "# Almost half of the people have no chilred and the count decreases as number of children increases.\n",
    "data.frame(prop.table(table(data$children)))%>%\n",
    "  ggplot(aes(Var1,Freq))+\n",
    "  geom_bar(stat=\"identity\",fill=\"lightblue\",col=\"black\")+\n",
    "  geom_text(aes(y=Freq+.01,label=paste0(Freq*nrow(data),\" / \",signif(Freq,3)*100)))+\n",
    "  labs(x=\"number of children\",y=\"count / %\")"
   ]
  },
  {
   "cell_type": "code",
   "execution_count": 10,
   "metadata": {},
   "outputs": [
    {
     "data": {
      "image/png": "[encoded data removed]",
      "text/plain": [
       "plot without title"
      ]
     },
     "metadata": {},
     "output_type": "display_data"
    }
   ],
   "source": [
    "ggplot(data, aes(reorder(children, charges), charges, fill = children))+\n",
    "  geom_boxplot()+\n",
    "  labs(    title = \"Charges by Number of Children\",\n",
    "           x = \"children\")+\n",
    "  theme(plot.title = element_text(hjust = .5))"
   ]
  },
  {
   "cell_type": "code",
   "execution_count": 11,
   "metadata": {},
   "outputs": [
    {
     "data": {
      "image/png": "[encoded data removed]",
      "text/plain": [
       "Plot with title \"Scatter plot + histograms\""
      ]
     },
     "metadata": {},
     "output_type": "display_data"
    }
   ],
   "source": [
    "#Age\n",
    "#The scatterplot depicts that the age follows uniform distribution, whereas charges are right skewed. \n",
    "#We also observe positive linear relationships between these two variables. The older a person, the higher the charges are.\n",
    "scatter.hist(data$age,data$charges, xlab=\"age\",ylab=\"charges\")"
   ]
  },
  {
   "cell_type": "code",
   "execution_count": 36,
   "metadata": {},
   "outputs": [
    {
     "data": {
      "image/png": "[encoded data removed]",
      "text/plain": [
       "plot without title"
      ]
     },
     "metadata": {},
     "output_type": "display_data"
    }
   ],
   "source": [
    "#Male\n",
    "#There is no significant difference in median values of charges for males and females. However, charges for males demonstrate\n",
    "#higher variability then for women.\n",
    "ggplot(data, aes(as.factor(male), charges, fill = as.factor(male)))+\n",
    "  geom_boxplot()+\n",
    "  labs(title = \"Charges by gender\",\n",
    "       x = \"male\")+\n",
    "  scale_fill_discrete(\"male\")+\n",
    "  theme(plot.title = element_text(hjust = .5))"
   ]
  },
  {
   "cell_type": "code",
   "execution_count": 13,
   "metadata": {},
   "outputs": [
    {
     "data": {
      "text/html": [
       "<ol class=list-inline>\n",
       "\t<li>'578'</li>\n",
       "\t<li>'282'</li>\n",
       "\t<li>'331'</li>\n",
       "\t<li>'289'</li>\n",
       "\t<li>'884'</li>\n",
       "\t<li>'669'</li>\n",
       "\t<li>'1097'</li>\n",
       "\t<li>'186'</li>\n",
       "\t<li>'743'</li>\n",
       "\t<li>'382'</li>\n",
       "\t<li>'1231'</li>\n",
       "\t<li>'820'</li>\n",
       "\t<li>'56'</li>\n",
       "\t<li>'1302'</li>\n",
       "\t<li>'1123'</li>\n",
       "\t<li>'678'</li>\n",
       "\t<li>'570'</li>\n",
       "\t<li>'588'</li>\n",
       "\t<li>'257'</li>\n",
       "\t<li>'87'</li>\n",
       "\t<li>'544'</li>\n",
       "\t<li>'1301'</li>\n",
       "\t<li>'1242'</li>\n",
       "\t<li>'1063'</li>\n",
       "\t<li>'489'</li>\n",
       "\t<li>'531'</li>\n",
       "\t<li>'902'</li>\n",
       "\t<li>'952'</li>\n",
       "\t<li>'1241'</li>\n",
       "\t<li>'110'</li>\n",
       "\t<li>'1147'</li>\n",
       "\t<li>'35'</li>\n",
       "\t<li>'176'</li>\n",
       "\t<li>'40'</li>\n",
       "\t<li>'329'</li>\n",
       "\t<li>'1285'</li>\n",
       "\t<li>'252'</li>\n",
       "\t<li>'95'</li>\n",
       "\t<li>'861'</li>\n",
       "\t<li>'740'</li>\n",
       "</ol>\n"
      ],
      "text/latex": [
       "\\begin{enumerate*}\n",
       "\\item '578'\n",
       "\\item '282'\n",
       "\\item '331'\n",
       "\\item '289'\n",
       "\\item '884'\n",
       "\\item '669'\n",
       "\\item '1097'\n",
       "\\item '186'\n",
       "\\item '743'\n",
       "\\item '382'\n",
       "\\item '1231'\n",
       "\\item '820'\n",
       "\\item '56'\n",
       "\\item '1302'\n",
       "\\item '1123'\n",
       "\\item '678'\n",
       "\\item '570'\n",
       "\\item '588'\n",
       "\\item '257'\n",
       "\\item '87'\n",
       "\\item '544'\n",
       "\\item '1301'\n",
       "\\item '1242'\n",
       "\\item '1063'\n",
       "\\item '489'\n",
       "\\item '531'\n",
       "\\item '902'\n",
       "\\item '952'\n",
       "\\item '1241'\n",
       "\\item '110'\n",
       "\\item '1147'\n",
       "\\item '35'\n",
       "\\item '176'\n",
       "\\item '40'\n",
       "\\item '329'\n",
       "\\item '1285'\n",
       "\\item '252'\n",
       "\\item '95'\n",
       "\\item '861'\n",
       "\\item '740'\n",
       "\\end{enumerate*}\n"
      ],
      "text/markdown": [
       "1. '578'\n",
       "2. '282'\n",
       "3. '331'\n",
       "4. '289'\n",
       "5. '884'\n",
       "6. '669'\n",
       "7. '1097'\n",
       "8. '186'\n",
       "9. '743'\n",
       "10. '382'\n",
       "11. '1231'\n",
       "12. '820'\n",
       "13. '56'\n",
       "14. '1302'\n",
       "15. '1123'\n",
       "16. '678'\n",
       "17. '570'\n",
       "18. '588'\n",
       "19. '257'\n",
       "20. '87'\n",
       "21. '544'\n",
       "22. '1301'\n",
       "23. '1242'\n",
       "24. '1063'\n",
       "25. '489'\n",
       "26. '531'\n",
       "27. '902'\n",
       "28. '952'\n",
       "29. '1241'\n",
       "30. '110'\n",
       "31. '1147'\n",
       "32. '35'\n",
       "33. '176'\n",
       "34. '40'\n",
       "35. '329'\n",
       "36. '1285'\n",
       "37. '252'\n",
       "38. '95'\n",
       "39. '861'\n",
       "40. '740'\n",
       "\n",
       "\n"
      ],
      "text/plain": [
       " [1] \"578\"  \"282\"  \"331\"  \"289\"  \"884\"  \"669\"  \"1097\" \"186\"  \"743\"  \"382\" \n",
       "[11] \"1231\" \"820\"  \"56\"   \"1302\" \"1123\" \"678\"  \"570\"  \"588\"  \"257\"  \"87\"  \n",
       "[21] \"544\"  \"1301\" \"1242\" \"1063\" \"489\"  \"531\"  \"902\"  \"952\"  \"1241\" \"110\" \n",
       "[31] \"1147\" \"35\"   \"176\"  \"40\"   \"329\"  \"1285\" \"252\"  \"95\"   \"861\"  \"740\" "
      ]
     },
     "metadata": {},
     "output_type": "display_data"
    },
    {
     "data": {
      "image/png": "[encoded data removed]",
      "text/plain": [
       "plot without title"
      ]
     },
     "metadata": {},
     "output_type": "display_data"
    }
   ],
   "source": [
    "#Region\n",
    "#We observe outliers as well as difference in median values of charges per region.\n",
    "#The highest charges are noticed in the northeast.\n",
    "scatterplot(data$region,data$charges,xlab=\"region\",ylab=\"charges\")"
   ]
  },
  {
   "cell_type": "code",
   "execution_count": 14,
   "metadata": {},
   "outputs": [
    {
     "data": {
      "image/png": "[encoded data removed]",
      "text/plain": [
       "plot without title"
      ]
     },
     "metadata": {},
     "output_type": "display_data"
    }
   ],
   "source": [
    "#From scatterplotMatrix we can see distribution of each variable (uniform, normal, right skewed), \n",
    "#linear relationships of age&bmi with charges; highest bmi is recorded in the southeast;\n",
    "#inverse relationships of children and charges.\n",
    "suppressWarnings(scatterplotMatrix(~ age+ region+bmi+charges+children, data=data, col=\"black\", regline=TRUE, main=\"Full Picture\"))"
   ]
  },
  {
   "cell_type": "code",
   "execution_count": 34,
   "metadata": {},
   "outputs": [
    {
     "data": {
      "image/png": "[encoded data removed]",
      "text/plain": [
       "plot without title"
      ]
     },
     "metadata": {},
     "output_type": "display_data"
    }
   ],
   "source": [
    "#Smoker\n",
    "#The graph depicts almost 80% of smokers and 20% non-smokers. Let's see how it is in relationships with charges. \n",
    "options(repr.plot.width=4, repr.plot.height=3)\n",
    "data.frame(prop.table(table(data$smoker)))%>%\n",
    "  ggplot(aes(Var1,Freq))+\n",
    "  geom_bar(stat=\"identity\",fill=\"lightblue\",col=\"black\")+\n",
    "  geom_text(aes(y=Freq+.03,label=paste0(Freq*nrow(data),\" / \",signif(Freq,3)*100)))+\n",
    "  labs(x=\"smoker\",y=\"count / %\")"
   ]
  },
  {
   "cell_type": "code",
   "execution_count": 35,
   "metadata": {},
   "outputs": [
    {
     "data": {
      "image/png": "[encoded data removed]",
      "text/plain": [
       "plot without title"
      ]
     },
     "metadata": {},
     "output_type": "display_data"
    }
   ],
   "source": [
    "#We observe a significant contrast in charges for smokers vs non-smokers. Obviously, smokers are charged more.\n",
    "ggplot(data, aes(as.factor(smoker), charges, fill = as.factor(smoker)))+\n",
    "  geom_boxplot()+\n",
    "  labs(title = \"Smoker's vs Non-smoker's charges\",\n",
    "       x = \"smoker\")+\n",
    "  scale_fill_discrete(\"smoker\")+\n",
    "  theme(plot.title = element_text(hjust = .5))"
   ]
  },
  {
   "cell_type": "code",
   "execution_count": 17,
   "metadata": {},
   "outputs": [
    {
     "name": "stderr",
     "output_type": "stream",
     "text": [
      "`stat_bin()` using `bins = 30`. Pick better value with `binwidth`.\n",
      "`stat_bin()` using `bins = 30`. Pick better value with `binwidth`.\n",
      "`stat_bin()` using `bins = 30`. Pick better value with `binwidth`.\n",
      "`stat_bin()` using `bins = 30`. Pick better value with `binwidth`.\n"
     ]
    },
    {
     "data": {
      "image/png": "[encoded data removed]",
      "text/plain": [
       "plot without title"
      ]
     },
     "metadata": {},
     "output_type": "display_data"
    }
   ],
   "source": [
    "#From the following illustration, we can additionally confirm the following: \n",
    "# 1. there are more obese people among non-smokers than smokers\n",
    "# 2. more obese people are observed in southeast.\n",
    "# 3. obese people are charged more than non-obese.\n",
    "# 4. the charges are higher in northeast than in other regions.\n",
    "ggpairs(data, columns = c(\"smoker\", \"bmi\",\"region\", \"children\", \"charges\"), ggplot2::aes(colour=region))\n"
   ]
  },
  {
   "cell_type": "code",
   "execution_count": 18,
   "metadata": {},
   "outputs": [
    {
     "data": {
      "image/png": "[encoded data removed]",
      "text/plain": [
       "Plot with title \"\""
      ]
     },
     "metadata": {},
     "output_type": "display_data"
    }
   ],
   "source": [
    "# Correlation analysis\n",
    "#One correlation stands out in this graph - a strong positive correlation between charges and smoker. \n",
    "# Other variables are not as strongly correlated, the second largest one is age and charges (0.3), which is followed by the correlation\n",
    "# of bmi and charges 0.2. \n",
    "newdata<-data\n",
    "for(i in which(sapply(newdata,is.factor))){\n",
    "  newdata[,i]<-as.numeric(newdata[,i])\n",
    "}\n",
    "corrplot::corrplot(cor(newdata),method = \"number\",type = \"upper\")"
   ]
  },
  {
   "cell_type": "markdown",
   "metadata": {},
   "source": [
    "<h1><font color=\"red\"><center id=\"Model generation\">Model generation<a class=\"anchor-link\" href=\"#Model generation\">&#182;</a><center></font></h1>"
   ]
  },
  {
   "cell_type": "code",
   "execution_count": 19,
   "metadata": {},
   "outputs": [
    {
     "data": {
      "image/png": "[encoded data removed]",
      "text/plain": [
       "plot without title"
      ]
     },
     "metadata": {},
     "output_type": "display_data"
    }
   ],
   "source": [
    "#We use randon forest to see which variables are more significant for the dataset.\n",
    "#Based on the visualization, smoker, age and bmi are more significant. While choldren, \n",
    "#region and gender are evidently less significant, which means they do not have a strong effect on the charges.\n",
    "set.seed(123)\n",
    "rf<-randomForest(charges~smoker+age+bmi+children+region+male,data,importance = T,ntree = 1000)\n",
    "varImpPlot(rf)"
   ]
  },
  {
   "cell_type": "code",
   "execution_count": 20,
   "metadata": {},
   "outputs": [
    {
     "data": {
      "text/plain": [
       "\n",
       "Call:\n",
       "lm(formula = charges ~ smoker + region + bmi + age + male + children + \n",
       "    smoker, data = data)\n",
       "\n",
       "Residuals:\n",
       "     Min       1Q   Median       3Q      Max \n",
       "-11304.9  -2848.1   -982.1   1393.9  29992.8 \n",
       "\n",
       "Coefficients:\n",
       "                Estimate Std. Error t value Pr(>|t|)    \n",
       "(Intercept)     -11938.5      987.8 -12.086  < 2e-16 ***\n",
       "smoker           23848.5      413.1  57.723  < 2e-16 ***\n",
       "regionnorthwest   -353.0      476.3  -0.741 0.458769    \n",
       "regionsoutheast  -1035.0      478.7  -2.162 0.030782 *  \n",
       "regionsouthwest   -960.0      477.9  -2.009 0.044765 *  \n",
       "bmi                339.2       28.6  11.860  < 2e-16 ***\n",
       "age                256.9       11.9  21.587  < 2e-16 ***\n",
       "male              -131.3      332.9  -0.394 0.693348    \n",
       "children           475.5      137.8   3.451 0.000577 ***\n",
       "---\n",
       "Signif. codes:  0 '***' 0.001 '**' 0.01 '*' 0.05 '.' 0.1 ' ' 1\n",
       "\n",
       "Residual standard error: 6062 on 1329 degrees of freedom\n",
       "Multiple R-squared:  0.7509,\tAdjusted R-squared:  0.7494 \n",
       "F-statistic: 500.8 on 8 and 1329 DF,  p-value: < 2.2e-16\n"
      ]
     },
     "metadata": {},
     "output_type": "display_data"
    }
   ],
   "source": [
    "#We will use linear regression to compare the results with the random forest output.\n",
    "#Smoker, Regions, BMI, age, children are significant variables due to low p-values (<0.5)\n",
    "children<-as.character(data$children)\n",
    "model <-lm(charges ~ smoker+region+bmi+age+male+children+smoker, data)\n",
    "summary(model)"
   ]
  },
  {
   "cell_type": "code",
   "execution_count": 21,
   "metadata": {},
   "outputs": [
    {
     "data": {
      "image/png": "[encoded data removed]",
      "text/plain": [
       "Plot with title \"Histogram of Residuals\""
      ]
     },
     "metadata": {},
     "output_type": "display_data"
    }
   ],
   "source": [
    "#Residuals follow normal distribution with a slight skewness to the right\n",
    "par(mfrow=c(1,1))\n",
    "hist(model$residuals, col = 'lightblue', xlab=\"residuals\",main = 'Histogram of Residuals')"
   ]
  },
  {
   "cell_type": "markdown",
   "metadata": {},
   "source": [
    "<h1><font color=\"red\"><center id=\"Ensemble prediction with Stacking\">Ensemble prediction with Stacking<a class=\"anchor-link\" href=\"#Ensemble prediction with Stacking\">&#182;</a><center></font></h1>"
   ]
  },
  {
   "cell_type": "code",
   "execution_count": 22,
   "metadata": {},
   "outputs": [],
   "source": [
    "#To achieve a higher accuracy in prediction, we will combine different model predictions into one ensemble prediction.\n",
    "#We will use stacking method for it.\n",
    "#Now we split the data into train and test datasets\n",
    "train <- createDataPartition(y = data$charges,p = 0.75,list = FALSE)\n",
    "training <- data[train,]\n",
    "testing <- data[-train,]"
   ]
  },
  {
   "cell_type": "code",
   "execution_count": 23,
   "metadata": {},
   "outputs": [],
   "source": [
    "#Next we create a repeated cross validation object \n",
    "fit <- trainControl(method = 'repeatedcv',number = 10, repeats = 5, summaryFunction=defaultSummary)"
   ]
  },
  {
   "cell_type": "code",
   "execution_count": 24,
   "metadata": {},
   "outputs": [],
   "source": [
    "#We need to build an object to hold the list of algorithms\n",
    "algorithmList <- c('lm','pls','rf', 'svmRadial')"
   ]
  },
  {
   "cell_type": "code",
   "execution_count": 25,
   "metadata": {},
   "outputs": [],
   "source": [
    "#Training of sub models\n",
    "models <- suppressWarnings(caretList(charges~., data=training, trControl=fit, methodList=algorithmList, preProcess = c(\"center\",\"scale\")))"
   ]
  },
  {
   "cell_type": "code",
   "execution_count": 26,
   "metadata": {},
   "outputs": [
    {
     "data": {
      "text/plain": [
       "\n",
       "Call:\n",
       "summary.resamples(object = results)\n",
       "\n",
       "Models: lm, pls, rf, svmRadial \n",
       "Number of resamples: 50 \n",
       "\n",
       "MAE \n",
       "              Min.  1st Qu.   Median     Mean  3rd Qu.     Max. NA's\n",
       "lm        3367.374 3908.792 4072.781 4084.418 4278.343 4557.803    0\n",
       "pls       3342.578 3889.767 4088.213 4077.447 4277.605 4565.457    0\n",
       "rf        1892.807 2462.270 2620.427 2601.737 2789.533 3006.858    0\n",
       "svmRadial 1934.345 2379.315 2657.734 2591.984 2759.417 3075.969    0\n",
       "\n",
       "RMSE \n",
       "              Min.  1st Qu.   Median     Mean  3rd Qu.     Max. NA's\n",
       "lm        4831.373 5530.407 6028.345 5990.518 6418.054 6950.857    0\n",
       "pls       4823.589 5513.715 6039.150 5991.279 6430.297 6915.963    0\n",
       "rf        3053.958 4255.861 4743.759 4634.474 5084.355 5691.051    0\n",
       "svmRadial 3331.225 4416.491 4891.325 4777.081 5239.100 5697.835    0\n",
       "\n",
       "Rsquared \n",
       "               Min.   1st Qu.    Median      Mean   3rd Qu.      Max. NA's\n",
       "lm        0.6397341 0.7276422 0.7657089 0.7615363 0.8044512 0.8559276    0\n",
       "pls       0.6429718 0.7285246 0.7666179 0.7614825 0.8042560 0.8563372    0\n",
       "rf        0.7720651 0.8202095 0.8549907 0.8546765 0.8833200 0.9482097    0\n",
       "svmRadial 0.7428726 0.8154168 0.8478476 0.8466419 0.8778820 0.9322526    0\n"
      ]
     },
     "metadata": {},
     "output_type": "display_data"
    }
   ],
   "source": [
    "results <- resamples(models)\n",
    "summary(results)"
   ]
  },
  {
   "cell_type": "code",
   "execution_count": 27,
   "metadata": {},
   "outputs": [
    {
     "data": {
      "image/png": "[encoded data removed]",
      "text/plain": [
       "plot without title"
      ]
     },
     "metadata": {},
     "output_type": "display_data"
    }
   ],
   "source": [
    "#This demonstrates that SVM is the optimal model out of four, it is followed by random forest.\n",
    "dotplot(results, metric = 'Rsquared')"
   ]
  },
  {
   "cell_type": "code",
   "execution_count": 28,
   "metadata": {},
   "outputs": [
    {
     "data": {
      "text/html": [
       "<table>\n",
       "<thead><tr><th></th><th scope=col>lm</th><th scope=col>pls</th><th scope=col>rf</th><th scope=col>svmRadial</th></tr></thead>\n",
       "<tbody>\n",
       "\t<tr><th scope=row>lm</th><td>1.0000000</td><td>0.9974380</td><td>0.6040723</td><td>0.6646681</td></tr>\n",
       "\t<tr><th scope=row>pls</th><td>0.9974380</td><td>1.0000000</td><td>0.6070780</td><td>0.6654061</td></tr>\n",
       "\t<tr><th scope=row>rf</th><td>0.6040723</td><td>0.6070780</td><td>1.0000000</td><td>0.8074397</td></tr>\n",
       "\t<tr><th scope=row>svmRadial</th><td>0.6646681</td><td>0.6654061</td><td>0.8074397</td><td>1.0000000</td></tr>\n",
       "</tbody>\n",
       "</table>\n"
      ],
      "text/latex": [
       "\\begin{tabular}{r|llll}\n",
       "  & lm & pls & rf & svmRadial\\\\\n",
       "\\hline\n",
       "\tlm & 1.0000000 & 0.9974380 & 0.6040723 & 0.6646681\\\\\n",
       "\tpls & 0.9974380 & 1.0000000 & 0.6070780 & 0.6654061\\\\\n",
       "\trf & 0.6040723 & 0.6070780 & 1.0000000 & 0.8074397\\\\\n",
       "\tsvmRadial & 0.6646681 & 0.6654061 & 0.8074397 & 1.0000000\\\\\n",
       "\\end{tabular}\n"
      ],
      "text/markdown": [
       "\n",
       "| <!--/--> | lm | pls | rf | svmRadial |\n",
       "|---|---|---|---|---|\n",
       "| lm | 1.0000000 | 0.9974380 | 0.6040723 | 0.6646681 |\n",
       "| pls | 0.9974380 | 1.0000000 | 0.6070780 | 0.6654061 |\n",
       "| rf | 0.6040723 | 0.6070780 | 1.0000000 | 0.8074397 |\n",
       "| svmRadial | 0.6646681 | 0.6654061 | 0.8074397 | 1.0000000 |\n",
       "\n"
      ],
      "text/plain": [
       "          lm        pls       rf        svmRadial\n",
       "lm        1.0000000 0.9974380 0.6040723 0.6646681\n",
       "pls       0.9974380 1.0000000 0.6070780 0.6654061\n",
       "rf        0.6040723 0.6070780 1.0000000 0.8074397\n",
       "svmRadial 0.6646681 0.6654061 0.8074397 1.0000000"
      ]
     },
     "metadata": {},
     "output_type": "display_data"
    }
   ],
   "source": [
    "#Correlation of predictions\n",
    "# Some of the models show relatively low correlation between each other, which means that they have different\n",
    "# predictions. Ensemble prediction is more beneficial with the models suggesting different predictions.\n",
    "modelCor(results)"
   ]
  },
  {
   "cell_type": "code",
   "execution_count": 29,
   "metadata": {},
   "outputs": [
    {
     "name": "stdout",
     "output_type": "stream",
     "text": [
      "A glm ensemble of 2 base models: lm, pls, rf, svmRadial\n",
      "\n",
      "Ensemble results:\n",
      "Generalized Linear Model \n",
      "\n",
      "5030 samples\n",
      "   4 predictor\n",
      "\n",
      "No pre-processing\n",
      "Resampling: Cross-Validated (10 fold, repeated 5 times) \n",
      "Summary of sample sizes: 4527, 4527, 4528, 4526, 4526, 4527, ... \n",
      "Resampling results:\n",
      "\n",
      "  RMSE      Rsquared   MAE     \n",
      "  4557.751  0.8613796  2485.716\n",
      "\n"
     ]
    }
   ],
   "source": [
    "#Combine predictions using GLM\n",
    "stack.glm <- caretStack(models, method=\"glm\", metric=\"RMSE\", trControl=fit)\n",
    "print(stack.glm)"
   ]
  },
  {
   "cell_type": "code",
   "execution_count": 30,
   "metadata": {},
   "outputs": [
    {
     "data": {
      "text/plain": [
       "\n",
       "Call:\n",
       "NULL\n",
       "\n",
       "Deviance Residuals: \n",
       "    Min       1Q   Median       3Q      Max  \n",
       "-9593.3  -1829.1   -981.0   -392.8  25951.9  \n",
       "\n",
       "Coefficients:\n",
       "              Estimate Std. Error t value Pr(>|t|)    \n",
       "(Intercept) -107.28330  104.17656  -1.030 0.303143    \n",
       "lm             1.16177    0.33787   3.438 0.000590 ***\n",
       "pls           -1.17986    0.33840  -3.487 0.000493 ***\n",
       "rf             0.61585    0.02710  22.728  < 2e-16 ***\n",
       "svmRadial      0.41332    0.03146  13.139  < 2e-16 ***\n",
       "---\n",
       "Signif. codes:  0 '***' 0.001 '**' 0.01 '*' 0.05 '.' 0.1 ' ' 1\n",
       "\n",
       "(Dispersion parameter for gaussian family taken to be 20836970)\n",
       "\n",
       "    Null deviance: 7.5822e+11  on 5029  degrees of freedom\n",
       "Residual deviance: 1.0471e+11  on 5025  degrees of freedom\n",
       "AIC: 99048\n",
       "\n",
       "Number of Fisher Scoring iterations: 2\n"
      ]
     },
     "metadata": {},
     "output_type": "display_data"
    }
   ],
   "source": [
    "summary(stack.glm)"
   ]
  },
  {
   "cell_type": "code",
   "execution_count": 31,
   "metadata": {},
   "outputs": [
    {
     "data": {
      "text/html": [
       "<dl class=dl-horizontal>\n",
       "\t<dt>RMSE</dt>\n",
       "\t\t<dd>4641.89792041721</dd>\n",
       "\t<dt>Rsquared</dt>\n",
       "\t\t<dd>0.841121426343936</dd>\n",
       "\t<dt>MAE</dt>\n",
       "\t\t<dd>2587.8931120725</dd>\n",
       "</dl>\n"
      ],
      "text/latex": [
       "\\begin{description*}\n",
       "\\item[RMSE] 4641.89792041721\n",
       "\\item[Rsquared] 0.841121426343936\n",
       "\\item[MAE] 2587.8931120725\n",
       "\\end{description*}\n"
      ],
      "text/markdown": [
       "RMSE\n",
       ":   4641.89792041721Rsquared\n",
       ":   0.841121426343936MAE\n",
       ":   2587.8931120725\n",
       "\n"
      ],
      "text/plain": [
       "        RMSE     Rsquared          MAE \n",
       "4641.8979204    0.8411214 2587.8931121 "
      ]
     },
     "metadata": {},
     "output_type": "display_data"
    }
   ],
   "source": [
    "#Checking performance of model on the test dataset\n",
    "#Rsquared is 89% which indicates there is a room for improvement of the model\n",
    "prediction <- predict(stack.glm, testing)\n",
    "act_pred <- data.frame(obs=testing$charges, pred=prediction)\n",
    "defaultSummary(act_pred)"
   ]
  },
  {
   "cell_type": "code",
   "execution_count": 32,
   "metadata": {},
   "outputs": [
    {
     "data": {
      "image/png": "[encoded data removed]",
      "text/plain": [
       "Plot with title \"Actual vs Predicted plot\""
      ]
     },
     "metadata": {},
     "output_type": "display_data"
    }
   ],
   "source": [
    "#Plotting Actual vs predicted values\n",
    "axisRange <- extendrange(c(testing$charges, prediction))\n",
    "plot(testing$charges, prediction, ylim = axisRange, xlim = axisRange, main = 'Actual vs Predicted plot')\n",
    "abline(0, 1, col = \"lightblue\", lty = 2)"
   ]
  },
  {
   "cell_type": "markdown",
   "metadata": {},
   "source": [
    "<h2><font color=\"red\"><center id=\"Conclusion\">Conclusion<a class=\"anchor-link\" href=\"#Conclusion\">&#182;</a><center></font></h2>"
   ]
  },
  {
   "cell_type": "markdown",
   "metadata": {},
   "source": [
    "We have analyzied the data and can conclude the following:\n",
    "\n",
    "1) medical charges are highly dependant on smoking status. if a person smokes, he has much higher charges than \n",
    "the one who doesnt.\n",
    "\n",
    "2) obesity also affects medical charges. Obese people get higher bills than non-obese people. \n",
    "\n",
    "3) age influences the charges as well. Older people get to pay more."
   ]
  }
 ],
 "metadata": {
  "kernelspec": {
   "display_name": "R 3.2",
   "language": "R",
   "name": "ir32"
  },
  "language_info": {
   "codemirror_mode": "r",
   "file_extension": ".r",
   "mimetype": "text/x-r-source",
   "name": "R",
   "pygments_lexer": "r",
   "version": "3.5.1"
  }
 },
 "nbformat": 4,
 "nbformat_minor": 2
}
